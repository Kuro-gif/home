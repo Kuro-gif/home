{
 "cells": [
  {
   "cell_type": "code",
   "execution_count": 2,
   "id": "2905b6a9-b40f-46c2-8f9f-963a151140d8",
   "metadata": {},
   "outputs": [
    {
     "name": "stderr",
     "output_type": "stream",
     "text": [
      "Matplotlib is building the font cache; this may take a moment.\n"
     ]
    }
   ],
   "source": [
    "import numpy as np\n",
    "import pandas as pd\n",
    "import matplotlib.pyplot as plt\n",
    "import seaborn as sb"
   ]
  },
  {
   "cell_type": "code",
   "execution_count": 5,
   "id": "b74a552f-ed99-4c0e-ac9c-d2c215908a46",
   "metadata": {},
   "outputs": [],
   "source": [
    "df = pd.read_csv(\"all_recs.csv\", encoding = \"unicode_escape\")"
   ]
  },
  {
   "cell_type": "code",
   "execution_count": 6,
   "id": "122dfb71-7869-490d-8eb7-d533f4319112",
   "metadata": {},
   "outputs": [
    {
     "data": {
      "text/html": [
       "<div>\n",
       "<style scoped>\n",
       "    .dataframe tbody tr th:only-of-type {\n",
       "        vertical-align: middle;\n",
       "    }\n",
       "\n",
       "    .dataframe tbody tr th {\n",
       "        vertical-align: top;\n",
       "    }\n",
       "\n",
       "    .dataframe thead th {\n",
       "        text-align: right;\n",
       "    }\n",
       "</style>\n",
       "<table border=\"1\" class=\"dataframe\">\n",
       "  <thead>\n",
       "    <tr style=\"text-align: right;\">\n",
       "      <th></th>\n",
       "      <th>Date</th>\n",
       "      <th>Location</th>\n",
       "      <th>Victim</th>\n",
       "      <th>Industry</th>\n",
       "      <th>Actor Location</th>\n",
       "      <th>Actor</th>\n",
       "      <th>Motive</th>\n",
       "      <th>Type</th>\n",
       "      <th>Sub-Type</th>\n",
       "      <th>Year</th>\n",
       "    </tr>\n",
       "  </thead>\n",
       "  <tbody>\n",
       "    <tr>\n",
       "      <th>0</th>\n",
       "      <td>31/12/2022</td>\n",
       "      <td>Iran (Islamic Republic of)</td>\n",
       "      <td>State-run Iranian Websites</td>\n",
       "      <td>Public Administration</td>\n",
       "      <td>Undetermined</td>\n",
       "      <td>Undetermined</td>\n",
       "      <td>Protest</td>\n",
       "      <td>Disruptive</td>\n",
       "      <td>External Denial of Services</td>\n",
       "      <td>2022</td>\n",
       "    </tr>\n",
       "    <tr>\n",
       "      <th>1</th>\n",
       "      <td>31/12/2022</td>\n",
       "      <td>United States of America</td>\n",
       "      <td>Housing Authority of the City of Los Angeles (...</td>\n",
       "      <td>Public Administration</td>\n",
       "      <td>Undetermined</td>\n",
       "      <td>LockBit 3.0</td>\n",
       "      <td>Financial</td>\n",
       "      <td>Exploitative</td>\n",
       "      <td>Undetermined</td>\n",
       "      <td>2022</td>\n",
       "    </tr>\n",
       "    <tr>\n",
       "      <th>2</th>\n",
       "      <td>30/12/2022</td>\n",
       "      <td>Poland</td>\n",
       "      <td>Polish Parliament</td>\n",
       "      <td>Public Administration</td>\n",
       "      <td>Russian Federation</td>\n",
       "      <td>NoName057(16)</td>\n",
       "      <td>Protest</td>\n",
       "      <td>Disruptive</td>\n",
       "      <td>External Denial of Services</td>\n",
       "      <td>2022</td>\n",
       "    </tr>\n",
       "    <tr>\n",
       "      <th>3</th>\n",
       "      <td>30/12/2022</td>\n",
       "      <td>United States of America</td>\n",
       "      <td>CentraState Healthcare System</td>\n",
       "      <td>Health Care and Social Assistance</td>\n",
       "      <td>Undetermined</td>\n",
       "      <td>Undetermined</td>\n",
       "      <td>Undetermined</td>\n",
       "      <td>Disruptive</td>\n",
       "      <td>Undetermined</td>\n",
       "      <td>2022</td>\n",
       "    </tr>\n",
       "    <tr>\n",
       "      <th>4</th>\n",
       "      <td>30/12/2022</td>\n",
       "      <td>Iran (Islamic Republic of)</td>\n",
       "      <td>Iran Airlines</td>\n",
       "      <td>Transportation and Warehousing</td>\n",
       "      <td>Ukraine</td>\n",
       "      <td>rootkitsecurity</td>\n",
       "      <td>Protest</td>\n",
       "      <td>Disruptive</td>\n",
       "      <td>External Denial of Services</td>\n",
       "      <td>2022</td>\n",
       "    </tr>\n",
       "  </tbody>\n",
       "</table>\n",
       "</div>"
      ],
      "text/plain": [
       "        Date                     Location  \\\n",
       "0  31/12/2022  Iran (Islamic Republic of)   \n",
       "1  31/12/2022    United States of America   \n",
       "2  30/12/2022                      Poland   \n",
       "3  30/12/2022    United States of America   \n",
       "4  30/12/2022  Iran (Islamic Republic of)   \n",
       "\n",
       "                                              Victim  \\\n",
       "0                         State-run Iranian Websites   \n",
       "1  Housing Authority of the City of Los Angeles (...   \n",
       "2                                  Polish Parliament   \n",
       "3                      CentraState Healthcare System   \n",
       "4                                      Iran Airlines   \n",
       "\n",
       "                            Industry      Actor Location            Actor  \\\n",
       "0              Public Administration        Undetermined     Undetermined   \n",
       "1              Public Administration        Undetermined      LockBit 3.0   \n",
       "2              Public Administration  Russian Federation    NoName057(16)   \n",
       "3  Health Care and Social Assistance        Undetermined     Undetermined   \n",
       "4     Transportation and Warehousing             Ukraine  rootkitsecurity   \n",
       "\n",
       "         Motive          Type                     Sub-Type  Year  \n",
       "0       Protest    Disruptive  External Denial of Services  2022  \n",
       "1     Financial  Exploitative                 Undetermined  2022  \n",
       "2       Protest    Disruptive  External Denial of Services  2022  \n",
       "3  Undetermined    Disruptive                 Undetermined  2022  \n",
       "4       Protest    Disruptive  External Denial of Services  2022  "
      ]
     },
     "execution_count": 6,
     "metadata": {},
     "output_type": "execute_result"
    }
   ],
   "source": [
    "df.head()"
   ]
  },
  {
   "cell_type": "code",
   "execution_count": null,
   "id": "33177493-7039-4f4e-9035-a10d85274035",
   "metadata": {},
   "outputs": [],
   "source": [
    "year_order = df['Year'].value_counts().index\n",
    "location_order = df['Location'].value_counts().index\n",
    "motive_order = df['Motive'].value_counts().index\n",
    "industry_order = df['Industry'].value_counts().index"
   ]
  },
  {
   "cell_type": "code",
   "execution_count": 7,
   "id": "c8b47461-8da7-405b-97d8-22cebb8ed369",
   "metadata": {},
   "outputs": [
    {
     "data": {
      "text/html": [
       "<div>\n",
       "<style scoped>\n",
       "    .dataframe tbody tr th:only-of-type {\n",
       "        vertical-align: middle;\n",
       "    }\n",
       "\n",
       "    .dataframe tbody tr th {\n",
       "        vertical-align: top;\n",
       "    }\n",
       "\n",
       "    .dataframe thead th {\n",
       "        text-align: right;\n",
       "    }\n",
       "</style>\n",
       "<table border=\"1\" class=\"dataframe\">\n",
       "  <thead>\n",
       "    <tr style=\"text-align: right;\">\n",
       "      <th></th>\n",
       "      <th>Date</th>\n",
       "      <th>Location</th>\n",
       "      <th>Victim</th>\n",
       "      <th>Industry</th>\n",
       "      <th>Actor Location</th>\n",
       "      <th>Actor</th>\n",
       "      <th>Motive</th>\n",
       "      <th>Type</th>\n",
       "      <th>Sub-Type</th>\n",
       "      <th>Year</th>\n",
       "    </tr>\n",
       "  </thead>\n",
       "  <tbody>\n",
       "    <tr>\n",
       "      <th>count</th>\n",
       "      <td>10419</td>\n",
       "      <td>10419</td>\n",
       "      <td>10419</td>\n",
       "      <td>10419</td>\n",
       "      <td>10416</td>\n",
       "      <td>10419</td>\n",
       "      <td>10419</td>\n",
       "      <td>10419</td>\n",
       "      <td>10415</td>\n",
       "      <td>10420</td>\n",
       "    </tr>\n",
       "    <tr>\n",
       "      <th>unique</th>\n",
       "      <td>2767</td>\n",
       "      <td>155</td>\n",
       "      <td>9519</td>\n",
       "      <td>21</td>\n",
       "      <td>76</td>\n",
       "      <td>956</td>\n",
       "      <td>10</td>\n",
       "      <td>5</td>\n",
       "      <td>77</td>\n",
       "      <td>11</td>\n",
       "    </tr>\n",
       "    <tr>\n",
       "      <th>top</th>\n",
       "      <td>27/06/2017</td>\n",
       "      <td>United States of America</td>\n",
       "      <td>Undetermined</td>\n",
       "      <td>Public Administration</td>\n",
       "      <td>Undetermined</td>\n",
       "      <td>Undetermined</td>\n",
       "      <td>Financial</td>\n",
       "      <td>Exploitive</td>\n",
       "      <td>Exploitation of Application Server</td>\n",
       "      <td>2022</td>\n",
       "    </tr>\n",
       "    <tr>\n",
       "      <th>freq</th>\n",
       "      <td>78</td>\n",
       "      <td>5110</td>\n",
       "      <td>14</td>\n",
       "      <td>2021</td>\n",
       "      <td>8269</td>\n",
       "      <td>6472</td>\n",
       "      <td>5781</td>\n",
       "      <td>5397</td>\n",
       "      <td>3616</td>\n",
       "      <td>1918</td>\n",
       "    </tr>\n",
       "  </tbody>\n",
       "</table>\n",
       "</div>"
      ],
      "text/plain": [
       "             Date                   Location        Victim  \\\n",
       "count        10419                     10419         10419   \n",
       "unique        2767                       155          9519   \n",
       "top     27/06/2017  United States of America  Undetermined   \n",
       "freq            78                      5110            14   \n",
       "\n",
       "                     Industry Actor Location         Actor     Motive  \\\n",
       "count                   10419          10416         10419      10419   \n",
       "unique                     21             76           956         10   \n",
       "top     Public Administration   Undetermined  Undetermined  Financial   \n",
       "freq                     2021           8269          6472       5781   \n",
       "\n",
       "              Type                            Sub-Type   Year  \n",
       "count        10419                               10415  10420  \n",
       "unique           5                                  77     11  \n",
       "top     Exploitive  Exploitation of Application Server   2022  \n",
       "freq          5397                                3616   1918  "
      ]
     },
     "execution_count": 7,
     "metadata": {},
     "output_type": "execute_result"
    }
   ],
   "source": [
    "df.describe()"
   ]
  },
  {
   "cell_type": "code",
   "execution_count": 8,
   "id": "07ff029e-869f-4868-a9bf-a767bf67a926",
   "metadata": {},
   "outputs": [
    {
     "name": "stdout",
     "output_type": "stream",
     "text": [
      "<class 'pandas.core.frame.DataFrame'>\n",
      "RangeIndex: 10420 entries, 0 to 10419\n",
      "Data columns (total 10 columns):\n",
      " #   Column          Non-Null Count  Dtype \n",
      "---  ------          --------------  ----- \n",
      " 0   Date            10419 non-null  object\n",
      " 1   Location        10419 non-null  object\n",
      " 2   Victim          10419 non-null  object\n",
      " 3   Industry        10419 non-null  object\n",
      " 4   Actor Location  10416 non-null  object\n",
      " 5   Actor           10419 non-null  object\n",
      " 6   Motive          10419 non-null  object\n",
      " 7   Type            10419 non-null  object\n",
      " 8   Sub-Type        10415 non-null  object\n",
      " 9   Year            10420 non-null  object\n",
      "dtypes: object(10)\n",
      "memory usage: 814.2+ KB\n"
     ]
    }
   ],
   "source": [
    "df.info()"
   ]
  },
  {
   "cell_type": "code",
   "execution_count": 10,
   "id": "45145112-b393-4869-829f-10996baf38c2",
   "metadata": {
    "scrolled": true
   },
   "outputs": [
    {
     "data": {
      "text/plain": [
       "(array([-0.06, -0.04, -0.02,  0.  ,  0.02,  0.04,  0.06]),\n",
       " [Text(-0.06, 0, '−0.06'),\n",
       "  Text(-0.039999999999999994, 0, '−0.04'),\n",
       "  Text(-0.019999999999999997, 0, '−0.02'),\n",
       "  Text(0.0, 0, '0.00'),\n",
       "  Text(0.020000000000000004, 0, '0.02'),\n",
       "  Text(0.04000000000000001, 0, '0.04'),\n",
       "  Text(0.06, 0, '0.06')])"
      ]
     },
     "execution_count": 10,
     "metadata": {},
     "output_type": "execute_result"
    },
    {
     "data": {
      "image/png": "[encoded data removed]",
      "text/plain": [
       "<Figure size 2000x800 with 1 Axes>"
      ]
     },
     "metadata": {},
     "output_type": "display_data"
    }
   ],
   "source": [
    "plt.figure(figsize=(20,8))\n",
    "plt.title(\"Attack Frequency by year\")\n",
    "sb.countplot(data=df, y='Year' ,order='year_order')\n",
    "plt.xticks(rotation=45)"
   ]
  },
  {
   "cell_type": "code",
   "execution_count": 14,
   "id": "2d9224b0-1fc6-48b7-b4bf-7de7212d3f27",
   "metadata": {},
   "outputs": [
    {
     "data": {
      "image/png": "[encoded data removed]",
      "text/plain": [
       "<Figure size 1000x600 with 1 Axes>"
      ]
     },
     "metadata": {},
     "output_type": "display_data"
    }
   ],
   "source": [
    "plt.figure(figsize=(10,6))\n",
    "plt.title(\"Attack  by industry\")\n",
    "sb.countplot(data=df, y='Industry',order='industry_oder')\n",
    "plt.xticks(rotation=15);"
   ]
  }
 ],
 "metadata": {
  "kernelspec": {
   "display_name": "Python 3 (ipykernel)",
   "language": "python",
   "name": "python3"
  },
  "language_info": {
   "codemirror_mode": {
    "name": "ipython",
    "version": 3
   },
   "file_extension": ".py",
   "mimetype": "text/x-python",
   "name": "python",
   "nbconvert_exporter": "python",
   "pygments_lexer": "ipython3",
   "version": "3.13.5"
  }
 },
 "nbformat": 4,
 "nbformat_minor": 5
}
